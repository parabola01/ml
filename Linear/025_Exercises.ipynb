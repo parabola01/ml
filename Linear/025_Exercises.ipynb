{
 "cells": [
  {
   "cell_type": "markdown",
   "metadata": {},
   "source": [
    "# Exercises\n",
    "\n",
    "There are three exercises in this notebook:\n",
    "\n",
    "1. Use the cross-validation method to test the linear regression with different $\\alpha$ values, at least three.\n",
    "2. Implement a SGD method that will train the Lasso regression for 10 epochs.\n",
    "3. Extend the Fisher's classifier to work with two features. Use the class as the $y$."
   ]
  },
  {
   "cell_type": "markdown",
   "metadata": {},
   "source": [
    "## 1. Cross-validation linear regression\n",
    "\n",
    "You need to change the variable ``alpha`` to be a list of alphas. Next do a loop and finally compare the results."
   ]
  },
  {
   "cell_type": "code",
   "execution_count": 3,
   "outputs": [],
   "source": [
    "import numpy as np\n",
    "import pandas as pd"
   ],
   "metadata": {
    "collapsed": false
   }
  },
  {
   "cell_type": "code",
   "execution_count": 7,
   "metadata": {},
   "outputs": [
    {
     "data": {
      "text/plain": "   alpha          w0        w1\n0  -1.00   26.667097  0.442962\n1  -0.50   62.548230  0.239837\n2  -0.30  135.462841 -0.172936\n3  -0.10 -817.017374  5.219094\n4   0.10 -101.723971  1.169788\n5   0.15  -83.456832  1.066376\n6   0.30  -54.237043  0.900962\n7   0.50  -36.975220  0.803242\n8   0.70  -28.047977  0.752704\n9   1.00  -20.590447  0.710486",
      "text/html": "<div>\n<style scoped>\n    .dataframe tbody tr th:only-of-type {\n        vertical-align: middle;\n    }\n\n    .dataframe tbody tr th {\n        vertical-align: top;\n    }\n\n    .dataframe thead th {\n        text-align: right;\n    }\n</style>\n<table border=\"1\" class=\"dataframe\">\n  <thead>\n    <tr style=\"text-align: right;\">\n      <th></th>\n      <th>alpha</th>\n      <th>w0</th>\n      <th>w1</th>\n    </tr>\n  </thead>\n  <tbody>\n    <tr>\n      <th>0</th>\n      <td>-1.00</td>\n      <td>26.667097</td>\n      <td>0.442962</td>\n    </tr>\n    <tr>\n      <th>1</th>\n      <td>-0.50</td>\n      <td>62.548230</td>\n      <td>0.239837</td>\n    </tr>\n    <tr>\n      <th>2</th>\n      <td>-0.30</td>\n      <td>135.462841</td>\n      <td>-0.172936</td>\n    </tr>\n    <tr>\n      <th>3</th>\n      <td>-0.10</td>\n      <td>-817.017374</td>\n      <td>5.219094</td>\n    </tr>\n    <tr>\n      <th>4</th>\n      <td>0.10</td>\n      <td>-101.723971</td>\n      <td>1.169788</td>\n    </tr>\n    <tr>\n      <th>5</th>\n      <td>0.15</td>\n      <td>-83.456832</td>\n      <td>1.066376</td>\n    </tr>\n    <tr>\n      <th>6</th>\n      <td>0.30</td>\n      <td>-54.237043</td>\n      <td>0.900962</td>\n    </tr>\n    <tr>\n      <th>7</th>\n      <td>0.50</td>\n      <td>-36.975220</td>\n      <td>0.803242</td>\n    </tr>\n    <tr>\n      <th>8</th>\n      <td>0.70</td>\n      <td>-28.047977</td>\n      <td>0.752704</td>\n    </tr>\n    <tr>\n      <th>9</th>\n      <td>1.00</td>\n      <td>-20.590447</td>\n      <td>0.710486</td>\n    </tr>\n  </tbody>\n</table>\n</div>"
     },
     "execution_count": 7,
     "metadata": {},
     "output_type": "execute_result"
    }
   ],
   "source": [
    "x = np.array([188, 181, 197, 168, 167, 187, 178, 194, 140, 176, 168, 192, 173, 142, 176]).reshape(-1, 1).reshape(15,1)\n",
    "y = np.array([141, 106, 149, 59, 79, 136, 65, 136, 52, 87, 115, 140, 82, 69, 121]).reshape(-1, 1).reshape(15,1)\n",
    "\n",
    "x = np.asmatrix(np.c_[np.ones((15,1)),x])\n",
    "\n",
    "I = np.identity(2)\n",
    "alphas = [ -1, -0.5, -0.3, -0.1, 0.1, 0.15, 0.3, 0.5, 0.7, 1]\n",
    "\n",
    "results = []\n",
    "for alpha in alphas:\n",
    "    w = np.linalg.inv(x.T*x + alpha * I)*x.T*y\n",
    "    w=w.ravel()\n",
    "    results.append([alpha, w.item(0), w.item(1)])\n",
    "\n",
    "final_result = pd.DataFrame(results, columns=[\"alpha\", \"w0\", \"w1\"], )\n",
    "final_result"
   ]
  },
  {
   "cell_type": "markdown",
   "metadata": {},
   "source": [
    "## 2. Implement based on the Ridge regression example, the Lasso regression.\n",
    "\n",
    "Please implement the SGD method and compare the results with the sklearn Lasso regression results. "
   ]
  },
  {
   "cell_type": "code",
   "execution_count": null,
   "metadata": {},
   "outputs": [],
   "source": [
    "def sgd():\n",
    "    # your code goes here\n",
    "    pass"
   ]
  },
  {
   "cell_type": "code",
   "execution_count": null,
   "metadata": {},
   "outputs": [],
   "source": [
    "x = np.array([188, 181, 197, 168, 167, 187, 178, 194, 140, 176, 168, 192, 173, 142, 176]).reshape(-1, 1).reshape(15,1)\n",
    "y = np.array([141, 106, 149, 59, 79, 136, 65, 136, 52, 87, 115, 140, 82, 69, 121]).reshape(-1, 1).reshape(15,1)\n",
    "\n",
    "x = np.asmatrix(np.c_[np.ones((15,1)),x])\n",
    "\n",
    "I = np.identity(2)\n",
    "alpha = 0.1 \n",
    "\n",
    "\n",
    "w = np.linalg.inv(x.T*x + alpha * I)*x.T*y # update this line\n",
    "w=w.ravel()\n"
   ]
  },
  {
   "cell_type": "markdown",
   "metadata": {},
   "source": [
    "## 3. Extend the Fisher's classifier\n",
    "\n",
    "Please extend the targets of the ``iris_data`` variable and use it as the $y$."
   ]
  },
  {
   "cell_type": "code",
   "execution_count": 19,
   "metadata": {},
   "outputs": [
    {
     "data": {
      "text/plain": "                       \n0    0.813219  1.127687\n1    0.714948  1.088379\n2    0.754257  1.049070\n3    0.734602  1.029416\n4    0.832873  1.108033\n..        ...       ...\n145  0.714948  1.442155\n146  0.616677  1.363538\n147  0.714948  1.402846\n148  0.793565  1.343884\n149  0.714948  1.284921\n\n[150 rows x 2 columns]",
      "text/html": "<div>\n<style scoped>\n    .dataframe tbody tr th:only-of-type {\n        vertical-align: middle;\n    }\n\n    .dataframe tbody tr th {\n        vertical-align: top;\n    }\n\n    .dataframe thead th {\n        text-align: right;\n    }\n</style>\n<table border=\"1\" class=\"dataframe\">\n  <thead>\n    <tr style=\"text-align: right;\">\n      <th></th>\n      <th></th>\n      <th></th>\n    </tr>\n  </thead>\n  <tbody>\n    <tr>\n      <th>0</th>\n      <td>0.813219</td>\n      <td>1.127687</td>\n    </tr>\n    <tr>\n      <th>1</th>\n      <td>0.714948</td>\n      <td>1.088379</td>\n    </tr>\n    <tr>\n      <th>2</th>\n      <td>0.754257</td>\n      <td>1.049070</td>\n    </tr>\n    <tr>\n      <th>3</th>\n      <td>0.734602</td>\n      <td>1.029416</td>\n    </tr>\n    <tr>\n      <th>4</th>\n      <td>0.832873</td>\n      <td>1.108033</td>\n    </tr>\n    <tr>\n      <th>...</th>\n      <td>...</td>\n      <td>...</td>\n    </tr>\n    <tr>\n      <th>145</th>\n      <td>0.714948</td>\n      <td>1.442155</td>\n    </tr>\n    <tr>\n      <th>146</th>\n      <td>0.616677</td>\n      <td>1.363538</td>\n    </tr>\n    <tr>\n      <th>147</th>\n      <td>0.714948</td>\n      <td>1.402846</td>\n    </tr>\n    <tr>\n      <th>148</th>\n      <td>0.793565</td>\n      <td>1.343884</td>\n    </tr>\n    <tr>\n      <th>149</th>\n      <td>0.714948</td>\n      <td>1.284921</td>\n    </tr>\n  </tbody>\n</table>\n<p>150 rows × 2 columns</p>\n</div>"
     },
     "execution_count": 19,
     "metadata": {},
     "output_type": "execute_result"
    }
   ],
   "source": [
    "import pandas as pd\n",
    "import numpy as np\n",
    "import matplotlib.pyplot as plt\n",
    "from sklearn.datasets import load_iris\n",
    "\n",
    "iris_data = load_iris()\n",
    "iris_df = pd.DataFrame(data= np.c_[iris_data['data'], iris_data['target']],\n",
    "                       columns= iris_data['feature_names'] + ['target'])\n",
    "iris_df.head()\n",
    "\n",
    "x = iris_df[['sepal width (cm)', 'sepal length (cm)']].values # change here\n",
    "y = iris_df['target'].values.reshape(-1, 1)\n",
    "\n",
    "dataset_size = np.size(y)\n",
    "\n",
    "mean_x, mean_y = np.mean(x), np.mean(y)\n",
    "\n",
    "SS_xy = np.sum(y * x) - dataset_size * mean_y * mean_x\n",
    "SS_xx = np.sum(x * x) - dataset_size * mean_x * mean_x\n",
    "\n",
    "a = SS_xy / SS_xx\n",
    "b = mean_y - a * mean_x\n",
    "\n",
    "y_pred = a * x + b\n",
    "\n",
    "final_result = pd.DataFrame(y_pred, columns=[\"\", \"\"])\n",
    "final_result"
   ]
  }
 ],
 "metadata": {
  "kernelspec": {
   "display_name": "Python 3",
   "language": "python",
   "name": "python3"
  },
  "language_info": {
   "codemirror_mode": {
    "name": "ipython",
    "version": 3
   },
   "file_extension": ".py",
   "mimetype": "text/x-python",
   "name": "python",
   "nbconvert_exporter": "python",
   "pygments_lexer": "ipython3",
   "version": "3.6.9"
  }
 },
 "nbformat": 4,
 "nbformat_minor": 4
}
